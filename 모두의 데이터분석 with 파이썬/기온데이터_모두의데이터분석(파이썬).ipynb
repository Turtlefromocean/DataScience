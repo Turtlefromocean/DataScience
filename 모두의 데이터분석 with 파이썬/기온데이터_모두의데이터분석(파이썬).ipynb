{
  "nbformat": 4,
  "nbformat_minor": 0,
  "metadata": {
    "colab": {
      "name": "기온데이터_모두의데이터분석(파이썬).ipynb",
      "provenance": [],
      "collapsed_sections": []
    },
    "kernelspec": {
      "name": "python3",
      "display_name": "Python 3"
    }
  },
  "cells": [
    {
      "cell_type": "markdown",
      "metadata": {
        "id": "V1adv-EF3sqX",
        "colab_type": "text"
      },
      "source": [
        "# 데이터 출력"
      ]
    },
    {
      "cell_type": "code",
      "metadata": {
        "id": "WrtGei4k2Mk5",
        "colab_type": "code",
        "outputId": "b438c1b1-89d0-434d-b412-123855ba4891",
        "colab": {
          "base_uri": "https://localhost:8080/",
          "height": 204
        }
      },
      "source": [
        "import csv\n",
        "f = open('seoul.csv', encoding='cp949')\n",
        "data = csv.reader(f)\n",
        "i  = 0;\n",
        "for row in data :\n",
        "  print(row)\n",
        "  if i == 10:\n",
        "    break\n",
        "  i = i + 1;\n",
        "f.close()"
      ],
      "execution_count": 0,
      "outputs": [
        {
          "output_type": "stream",
          "text": [
            "['날짜', '지점', '평균기온(℃)', '최저기온(℃)', '최고기온(℃)']\n",
            "['1907.10.1', '108', '13.5', '7.9', '20.7']\n",
            "['1907.10.2', '108', '16.2', '7.9', '22']\n",
            "['1907.10.3', '108', '16.2', '13.1', '21.3']\n",
            "['1907.10.4', '108', '16.5', '11.2', '22']\n",
            "['1907.10.5', '108', '17.6', '10.9', '25.4']\n",
            "['1907.10.6', '108', '13', '11.2', '21.3']\n",
            "['1907.10.7', '108', '11.3', '6.3', '16.1']\n",
            "['1907.10.8', '108', '8.9', '3.9', '14.9']\n",
            "['1907.10.9', '108', '11.6', '3.8', '21.1']\n",
            "['1907.10.10', '108', '14.2', '6.4', '24.1']\n"
          ],
          "name": "stdout"
        }
      ]
    },
    {
      "cell_type": "markdown",
      "metadata": {
        "id": "KHy4dQuD3qaZ",
        "colab_type": "text"
      },
      "source": [
        "#헤더 저장\n",
        "\n",
        "\n",
        "> 헤더는 출력되지 않음\n",
        "\n"
      ]
    },
    {
      "cell_type": "code",
      "metadata": {
        "id": "yddt9FI527rn",
        "colab_type": "code",
        "outputId": "ecd059ed-fb3e-45d8-99bb-34209a2fe8bf",
        "colab": {
          "base_uri": "https://localhost:8080/",
          "height": 204
        }
      },
      "source": [
        "import csv\n",
        "f = open('seoul.csv', encoding='cp949')\n",
        "data = csv.reader(f)\n",
        "header = next(data)\n",
        "i  = 0;\n",
        "for row in data :\n",
        "  print(row)\n",
        "  if i == 10:\n",
        "    break\n",
        "  i = i + 1;\n",
        "f.close()"
      ],
      "execution_count": 0,
      "outputs": [
        {
          "output_type": "stream",
          "text": [
            "['1907.10.1', '108', '13.5', '7.9', '20.7']\n",
            "['1907.10.2', '108', '16.2', '7.9', '22']\n",
            "['1907.10.3', '108', '16.2', '13.1', '21.3']\n",
            "['1907.10.4', '108', '16.5', '11.2', '22']\n",
            "['1907.10.5', '108', '17.6', '10.9', '25.4']\n",
            "['1907.10.6', '108', '13', '11.2', '21.3']\n",
            "['1907.10.7', '108', '11.3', '6.3', '16.1']\n",
            "['1907.10.8', '108', '8.9', '3.9', '14.9']\n",
            "['1907.10.9', '108', '11.6', '3.8', '21.1']\n",
            "['1907.10.10', '108', '14.2', '6.4', '24.1']\n",
            "['1907.10.11', '108', '15.4', '10.1', '20.4']\n"
          ],
          "name": "stdout"
        }
      ]
    },
    {
      "cell_type": "markdown",
      "metadata": {
        "id": "i3zYqRx14bLH",
        "colab_type": "text"
      },
      "source": [
        "# Q1. 서울이 가장 더웠던 날은? (1904 - 2019)\n",
        "> 결측값 보강: -999로 최고기온에 영향을 미치지 못하도록"
      ]
    },
    {
      "cell_type": "code",
      "metadata": {
        "id": "A30O1gLz39bT",
        "colab_type": "code",
        "outputId": "3df5b72d-f675-4502-eedc-1ff827ae0239",
        "colab": {
          "base_uri": "https://localhost:8080/",
          "height": 34
        }
      },
      "source": [
        "import csv\n",
        "f = open('seoul.csv', encoding='cp949')\n",
        "data = csv.reader(f)\n",
        "header = next(data)\n",
        "i  = 0;\n",
        "for row in data :\n",
        "  if row[-1] == ''  :\n",
        "    row[-1] = -999\n",
        "  row[-1] = float(row[-1])\n",
        "  if row[-1] > max_temp :\n",
        "    max_temp = row[-1]\n",
        "    max_date = row[0]\n",
        "f.close()\n",
        "print('기상 관측 이래 서울의 최고 기온이 가장 높았던 날은', max_date+'로, ',max_temp,'도 였습니다.')"
      ],
      "execution_count": 0,
      "outputs": [
        {
          "output_type": "stream",
          "text": [
            "기상 관측 이래 서울의 최고 기온이 가장 높았던 날은 2018.8.1로,  39.6 도 였습니다.\n"
          ],
          "name": "stdout"
        }
      ]
    },
    {
      "cell_type": "markdown",
      "metadata": {
        "id": "TTIK8K8FALvz",
        "colab_type": "text"
      },
      "source": [
        "#Q2. 내 생일의 기온 변화를 그래프로 시각화하기"
      ]
    },
    {
      "cell_type": "code",
      "metadata": {
        "id": "2edZrMy3ATBP",
        "colab_type": "code",
        "outputId": "2fb4909a-ae39-4202-afe2-e2ed1d69b74f",
        "colab": {
          "base_uri": "https://localhost:8080/",
          "height": 51
        }
      },
      "source": [
        "import csv\n",
        "f = open('seoul.csv', encoding='cp949')\n",
        "data = csv.reader(f)\n",
        "next(data)\n",
        "high = [] # 최고 기온 데이터 리스트에 저장\n",
        "low = [] # 최저 기온 데이터 리스트에 저장\n",
        "\n",
        "for row in data :\n",
        "  if row[-1] != ''  and row[-2] != '':\n",
        "    date = row[0].split('.')\n",
        "    if int(date[0]) >= 1997 :\n",
        "      if(date[1] == '8' and date[2] == '27')  :\n",
        "        high.append(float(row[-1]))\n",
        "        low.append(float(row[-2]))\n",
        "\n",
        "print(len(high)) #high에 저장된 데이터의 개수 출력\n",
        "print(len(low)) #low에 저장된 데이터의 개수 출력"
      ],
      "execution_count": 0,
      "outputs": [
        {
          "output_type": "stream",
          "text": [
            "23\n",
            "23\n"
          ],
          "name": "stdout"
        }
      ]
    },
    {
      "cell_type": "code",
      "metadata": {
        "id": "07x6xywOAup1",
        "colab_type": "code",
        "outputId": "635914b4-6f39-44e0-9eda-fddf65cb0022",
        "colab": {
          "base_uri": "https://localhost:8080/",
          "height": 281
        }
      },
      "source": [
        "import matplotlib.pyplot as plt\n",
        "\n",
        "plt.title('Temperature Variation by Year (feat. my birthday)')\n",
        "plt.plot(high, 'hotpink')\n",
        "plt.plot(low, 'skyblue')\n",
        "plt.show()"
      ],
      "execution_count": 0,
      "outputs": [
        {
          "output_type": "display_data",
          "data": {
            "image/png": "[encoded data removed]",
            "text/plain": [
              "<Figure size 432x288 with 1 Axes>"
            ]
          },
          "metadata": {
            "tags": []
          }
        }
      ]
    },
    {
      "cell_type": "markdown",
      "metadata": {
        "id": "K6JxTPqqDXam",
        "colab_type": "text"
      },
      "source": [
        "#Q3. 최고기온 데이터를 히스토그램으로 표현하기 (매일)"
      ]
    },
    {
      "cell_type": "code",
      "metadata": {
        "id": "G-MQ_rEnA9Rw",
        "colab_type": "code",
        "outputId": "99175a79-ba97-43c2-c52c-0360438ad50e",
        "colab": {
          "base_uri": "https://localhost:8080/",
          "height": 269
        }
      },
      "source": [
        "import csv\n",
        "import matplotlib.pyplot as plt\n",
        "\n",
        "f = open('seoul.csv', encoding='cp949')\n",
        "data = csv.reader(f)\n",
        "next(data)\n",
        "result = []\n",
        "\n",
        "for row in data :\n",
        "  if row[-1] != '' :\n",
        "    result.append(float(row[-1]))\n",
        "\n",
        "plt.hist(result, bins = 200, color = 'r')\n",
        "plt.show()"
      ],
      "execution_count": 0,
      "outputs": [
        {
          "output_type": "display_data",
          "data": {
            "image/png": "[encoded data removed]",
            "text/plain": [
              "<Figure size 432x288 with 1 Axes>"
            ]
          },
          "metadata": {
            "tags": []
          }
        }
      ]
    },
    {
      "cell_type": "markdown",
      "metadata": {
        "id": "Y3WBjWQ7Ec22",
        "colab_type": "text"
      },
      "source": [
        "#Q4. 최고기온 데이터를 히스토그램으로 표현하기 (1월 & 8월)\n"
      ]
    },
    {
      "cell_type": "code",
      "metadata": {
        "id": "NvfPj5qvEJht",
        "colab_type": "code",
        "outputId": "f8a3ee2f-1416-4f54-fec0-6611a208eeeb",
        "colab": {
          "base_uri": "https://localhost:8080/",
          "height": 269
        }
      },
      "source": [
        "import csv\n",
        "import matplotlib.pyplot as plt\n",
        "\n",
        "f = open('seoul.csv', encoding='cp949')\n",
        "data = csv.reader(f)\n",
        "next(data)\n",
        "\n",
        "aug = []\n",
        "jan = []\n",
        "\n",
        "for row in data :\n",
        "  month = row[0].split('.')[1]\n",
        "  if row[-1] != '' :\n",
        "    if month == '8' :\n",
        "      aug.append(float(row[-1]))\n",
        "    if month == '1' :\n",
        "      jan.append(float(row[-1]))\n",
        "\n",
        "plt.hist(aug, bins=200, color='r', label='Aug')\n",
        "plt.hist(jan, bins=200, color='b', label='Jan')\n",
        "plt.legend()\n",
        "plt.show()"
      ],
      "execution_count": 0,
      "outputs": [
        {
          "output_type": "display_data",
          "data": {
            "image/png": "[encoded data removed]",
            "text/plain": [
              "<Figure size 432x288 with 1 Axes>"
            ]
          },
          "metadata": {
            "tags": []
          }
        }
      ]
    }
  ]
}